{
 "cells": [
  {
   "cell_type": "code",
   "execution_count": 1,
   "id": "8f2ca968",
   "metadata": {},
   "outputs": [],
   "source": [
    "import os\n",
    "import sys\n",
    "\n",
    "sys.path.append(\"../../BlockScience\")\n",
    "\n",
    "\n",
    "from MSML.src import (load_from_json, create_action_chains_graph, write_out_boundary_actions,\n",
    "                      write_out_policies, write_out_mechanisms, load_svg_graphviz, write_basic_report_full,\n",
    "                      write_action_chain_reports, write_spec_tree, create_parameter_impact_table,\n",
    "                     write_entity_reports)\n",
    "from IPython.display import display, display_html\n",
    "from copy import deepcopy\n",
    "from src import math_spec_json\n",
    "ms = load_from_json(deepcopy(math_spec_json))"
   ]
  },
  {
   "cell_type": "code",
   "execution_count": 2,
   "id": "c6b32f5a",
   "metadata": {},
   "outputs": [],
   "source": [
    "write_basic_report_full(ms, \"reports\", \"Basic Report\")\n",
    "\n",
    "write_action_chain_reports(ms, \"reports\", [\"Initialization Control Action\"])\n",
    "write_entity_reports(ms, \"reports\", [\"Dummy\"])"
   ]
  },
  {
   "cell_type": "code",
   "execution_count": 3,
   "id": "771fa30a",
   "metadata": {},
   "outputs": [
    {
     "name": "stdout",
     "output_type": "stream",
     "text": [
      "├──Entities\n",
      "│   ├──Dummy\n",
      "├──State\n",
      "│   ├──Dummy\n",
      "│   │   ├──Variable A\n",
      "│   │   ├──Variable B\n",
      "│   │   ├──Variable C\n",
      "├──Stateful Metrics\n",
      "│   ├──Dummy Stateful Metrics\n",
      "│   │   ├──dummy_metric\n",
      "├──Spaces\n",
      "│   ├──Terminating Space\n",
      "│   ├──Empty Space\n",
      "│   ├──Initialization Space\n",
      "│   ├──Update X Space\n",
      "│   ├──Update Y Space\n",
      "│   ├──Update Y Prime Space\n",
      "│   ├──None Space\n",
      "│   ├──Computation Time Metric Space\n",
      "│   ├──State Metric Space\n",
      "├──Parameters\n",
      "│   ├──Iteration\n",
      "│   │   ├──max_iterations\n",
      "│   │   ├──tolerance\n",
      "│   │   ├──f\n",
      "│   │   ├──f_prime\n",
      "│   │   ├──root_finding_method\n",
      "├──Boundary Actions\n",
      "├──Control Actions\n",
      "│   ├──Initialization Control Action\n",
      "├──Policies\n",
      "│   ├──Iteration Controller Policy\n",
      "│   ├──Iteration Policy\n",
      "│   ├──Calculate Y Policy\n",
      "│   ├──Calculate Y Prime Policy\n",
      "├──Mechanisms\n",
      "│   ├──Update X Mechanism\n",
      "│   ├──Log Computation Time Metric Mechanism\n",
      "│   ├──Increment Iteration Step Mechanism\n",
      "│   ├──Set Simulation Time Mechanism\n",
      "│   ├──Update Y Mechanism\n",
      "│   ├──Update Y Prime Mechanism\n",
      "│   ├──Log State Metric Mechanism\n",
      "\n"
     ]
    }
   ],
   "source": [
    "print(write_spec_tree(ms))"
   ]
  },
  {
   "cell_type": "code",
   "execution_count": 4,
   "id": "355b66bd",
   "metadata": {},
   "outputs": [
    {
     "name": "stdout",
     "output_type": "stream",
     "text": [
      "                    Boundary Actions Control Actions  \\\n",
      "max_iterations                    []              []   \n",
      "tolerance                         []              []   \n",
      "f                                 []              []   \n",
      "f_prime                           []              []   \n",
      "root_finding_method               []              []   \n",
      "\n",
      "                                          Policies Mechanisms  \n",
      "max_iterations       [Iteration Controller Policy]         []  \n",
      "tolerance                                       []         []  \n",
      "f                             [Calculate Y Policy]         []  \n",
      "f_prime                 [Calculate Y Prime Policy]         []  \n",
      "root_finding_method             [Iteration Policy]         []  \n",
      "\n",
      "                    Boundary Actions Control Actions  \\\n",
      "max_iterations                    []              []   \n",
      "tolerance                         []              []   \n",
      "f                                 []              []   \n",
      "f_prime                           []              []   \n",
      "root_finding_method               []              []   \n",
      "\n",
      "                                          Policies Mechanisms Entities  \n",
      "max_iterations       [Iteration Controller Policy]         []       []  \n",
      "tolerance                                       []         []       []  \n",
      "f                             [Calculate Y Policy]         []       []  \n",
      "f_prime                 [Calculate Y Prime Policy]         []       []  \n",
      "root_finding_method             [Iteration Policy]         []       []  \n",
      "\n",
      "Iteration Controller Policy         [max_iterations]\n",
      "Calculate Y Policy                               [f]\n",
      "Calculate Y Prime Policy                   [f_prime]\n",
      "Iteration Policy               [root_finding_method]\n",
      "dtype: object\n",
      "\n",
      "Iteration Controller Policy         [max_iterations]\n",
      "Calculate Y Policy                               [f]\n",
      "Calculate Y Prime Policy                   [f_prime]\n",
      "Iteration Policy               [root_finding_method]\n",
      "dtype: object\n"
     ]
    }
   ],
   "source": [
    "print(create_parameter_impact_table(ms.param_links, orientation=\"Parameters\"))\n",
    "print()\n",
    "print(create_parameter_impact_table(ms.param_links_exploded, orientation=\"Parameters\"))\n",
    "print()\n",
    "print(create_parameter_impact_table(ms.param_links, orientation=\"Blocks\"))\n",
    "print()\n",
    "print(create_parameter_impact_table(ms.param_links_exploded, orientation=\"Blocks\"))"
   ]
  },
  {
   "cell_type": "code",
   "execution_count": null,
   "id": "921abc27",
   "metadata": {},
   "outputs": [],
   "source": []
  }
 ],
 "metadata": {
  "kernelspec": {
   "display_name": "Python 3 (ipykernel)",
   "language": "python",
   "name": "python3"
  },
  "language_info": {
   "codemirror_mode": {
    "name": "ipython",
    "version": 3
   },
   "file_extension": ".py",
   "mimetype": "text/x-python",
   "name": "python",
   "nbconvert_exporter": "python",
   "pygments_lexer": "ipython3",
   "version": "3.9.12"
  }
 },
 "nbformat": 4,
 "nbformat_minor": 5
}
