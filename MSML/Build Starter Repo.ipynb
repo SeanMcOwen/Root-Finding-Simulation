{
 "cells": [
  {
   "cell_type": "code",
   "execution_count": 1,
   "id": "8f2ca968",
   "metadata": {},
   "outputs": [
    {
     "name": "stderr",
     "output_type": "stream",
     "text": [
      "/Users/seanmcowen/opt/anaconda3/lib/python3.9/site-packages/pandas/core/computation/expressions.py:21: UserWarning: Pandas requires version '2.8.4' or newer of 'numexpr' (version '2.7.3' currently installed).\n",
      "  from pandas.core.computation.check import NUMEXPR_INSTALLED\n",
      "/Users/seanmcowen/opt/anaconda3/lib/python3.9/site-packages/pandas/core/arrays/masked.py:60: UserWarning: Pandas requires version '1.3.6' or newer of 'bottleneck' (version '1.3.2' currently installed).\n",
      "  from pandas.core import (\n"
     ]
    }
   ],
   "source": [
    "import os\n",
    "import sys\n",
    "\n",
    "from src import math_spec_json\n",
    "sys.path.append(\"../../BlockScience\")\n",
    "\n",
    "\n",
    "from MSML.src.math_spec_mapping import (load_from_json, create_action_chains_graph, write_out_boundary_actions,\n",
    "                      write_out_policies, write_out_mechanisms, load_svg_graphviz, write_basic_report_full,\n",
    "                      write_action_chain_reports, write_spec_tree, create_parameter_impact_table,\n",
    "                     write_entity_reports, write_wiring_report, write_overview,\n",
    "                     write_all_markdown_reports, write_spec_tree)\n",
    "from IPython.display import display, display_html\n",
    "from copy import deepcopy\n",
    "ms = load_from_json(deepcopy(math_spec_json))\n",
    "\n",
    "d = \"reports/Markdown\"\n",
    "write_all_markdown_reports(ms, d)\n",
    "write_spec_tree(ms, path=d, linking=True)"
   ]
  },
  {
   "cell_type": "code",
   "execution_count": null,
   "id": "a6830a25",
   "metadata": {},
   "outputs": [],
   "source": [
    "ms.metaprogramming_julia_types(\"../Julia Model\", overwrite=True)\n",
    "ms.metaprogramming_julia_spaces(\"../Julia Model\", \"../../BlockScience/cadCAD.jl/src/spaces.jl\", overwrite=True)\n",
    "\n",
    "ms.metaprogramming_python_types(\"../Model/model\", overwrite=True)\n",
    "ms.metaprogramming_python_spaces(\"../Model/model\", overwrite=True)\n",
    "ms.metaprogramming_python_states(\"../Model/model\", overwrite=True)\n",
    "ms.metaprogramming_python_parameters(\"../Model/model\", overwrite=True)"
   ]
  },
  {
   "cell_type": "code",
   "execution_count": 2,
   "id": "118e9466",
   "metadata": {},
   "outputs": [
    {
     "name": "stdout",
     "output_type": "stream",
     "text": [
      "No python implementation for Iteration Controller Policy / Constant Iterations Policy Option\n",
      "Iteration Policy has no policy options\n",
      "No python implementation for Log State Metric Mechanism\n",
      "The following wirings were not loading: ['Iteration Block', 'Root Finding Block', 'Simulation Block']\n"
     ]
    }
   ],
   "source": [
    "def test_function(X):\n",
    "    return (X-5)**2\n",
    "\n",
    "def test_function_derivative(X):\n",
    "    return 2*X - 10\n",
    "\n",
    "state = {\"X\": None,\n",
    "        \"t\": None,\n",
    "        \"Y\": None,\n",
    "        \"Y Prime\": None,\n",
    "        \"Iteration Step\": -1}\n",
    "params = {\"f\": test_function,\n",
    "          \"f_prime\": test_function_derivative,\n",
    "         \"root_finding_method\": None,\n",
    "          \"FP Iteration Controller Policy\": \"Constant Iterations Policy Option\",}\n",
    "\n",
    "spaces = None\n",
    "\n",
    "msi = ms.build_implementation(params)"
   ]
  },
  {
   "cell_type": "code",
   "execution_count": 3,
   "id": "eda0bd0d",
   "metadata": {},
   "outputs": [
    {
     "name": "stdout",
     "output_type": "stream",
     "text": [
      "{'X': None, 't': None, 'Y': None, 'Y Prime': None, 'Iteration Step': -1}\n",
      "{'X': 0, 't': 1712342478.827955, 'Y': None, 'Y Prime': None, 'Iteration Step': -1}\n",
      "{'X': 0, 't': 1712342478.827955, 'Y': 25, 'Y Prime': -10, 'Iteration Step': 0}\n"
     ]
    }
   ],
   "source": [
    "print(state)\n",
    "spaces = msi.blocks[\"Initialization Block\"](state, params, spaces)\n",
    "print(state)\n",
    "spaces = msi.blocks[\"Calculate Dependent Variables Block\"](state, params, spaces)\n",
    "print(state)"
   ]
  },
  {
   "cell_type": "code",
   "execution_count": null,
   "id": "f82450ce",
   "metadata": {},
   "outputs": [],
   "source": [
    "\n",
    "write_wiring_report(ms, \"reports\", \"Simulation Block\")\n",
    "write_overview(ms, \"Root Finding Simulation Mathematical Specification\", \"README.md\", summary=\"This model aims to compare different methods for root finding in terms of both accuracy and computational time.\")\n",
    "write_basic_report_full(ms, \"reports\", \"Basic Report\")\n",
    "write_action_chain_reports(ms, \"reports\", [\"Initialization Control Action\"])"
   ]
  },
  {
   "cell_type": "code",
   "execution_count": null,
   "id": "355b66bd",
   "metadata": {},
   "outputs": [],
   "source": [
    "print(create_parameter_impact_table(ms.param_links, orientation=\"Parameters\"))\n",
    "print()\n",
    "print(create_parameter_impact_table(ms.param_links_exploded, orientation=\"Parameters\"))\n",
    "print()\n",
    "print(create_parameter_impact_table(ms.param_links, orientation=\"Blocks\"))\n",
    "print()\n",
    "print(create_parameter_impact_table(ms.param_links_exploded, orientation=\"Blocks\"))"
   ]
  },
  {
   "cell_type": "code",
   "execution_count": null,
   "id": "921abc27",
   "metadata": {},
   "outputs": [],
   "source": []
  },
  {
   "cell_type": "code",
   "execution_count": null,
   "id": "8a5332bd",
   "metadata": {},
   "outputs": [],
   "source": []
  }
 ],
 "metadata": {
  "kernelspec": {
   "display_name": "Python 3 (ipykernel)",
   "language": "python",
   "name": "python3"
  },
  "language_info": {
   "codemirror_mode": {
    "name": "ipython",
    "version": 3
   },
   "file_extension": ".py",
   "mimetype": "text/x-python",
   "name": "python",
   "nbconvert_exporter": "python",
   "pygments_lexer": "ipython3",
   "version": "3.9.7"
  }
 },
 "nbformat": 4,
 "nbformat_minor": 5
}
