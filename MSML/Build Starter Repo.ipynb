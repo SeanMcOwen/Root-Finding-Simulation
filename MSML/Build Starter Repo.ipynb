{
 "cells": [
  {
   "cell_type": "code",
   "execution_count": 1,
   "id": "8f2ca968",
   "metadata": {},
   "outputs": [
    {
     "ename": "TypeError",
     "evalue": "unhashable type: 'dict'",
     "output_type": "error",
     "traceback": [
      "\u001b[0;31m---------------------------------------------------------------------------\u001b[0m",
      "\u001b[0;31mTypeError\u001b[0m                                 Traceback (most recent call last)",
      "\u001b[0;32m/var/folders/y0/fwkpk2ps087b_2qxvhjstrfr0000gn/T/ipykernel_27155/4006794267.py\u001b[0m in \u001b[0;36m<module>\u001b[0;34m\u001b[0m\n\u001b[1;32m     12\u001b[0m \u001b[0;32mfrom\u001b[0m \u001b[0mcopy\u001b[0m \u001b[0;32mimport\u001b[0m \u001b[0mdeepcopy\u001b[0m\u001b[0;34m\u001b[0m\u001b[0;34m\u001b[0m\u001b[0m\n\u001b[1;32m     13\u001b[0m \u001b[0;32mfrom\u001b[0m \u001b[0msrc\u001b[0m \u001b[0;32mimport\u001b[0m \u001b[0mmath_spec_json\u001b[0m\u001b[0;34m\u001b[0m\u001b[0;34m\u001b[0m\u001b[0m\n\u001b[0;32m---> 14\u001b[0;31m \u001b[0mms\u001b[0m \u001b[0;34m=\u001b[0m \u001b[0mload_from_json\u001b[0m\u001b[0;34m(\u001b[0m\u001b[0mdeepcopy\u001b[0m\u001b[0;34m(\u001b[0m\u001b[0mmath_spec_json\u001b[0m\u001b[0;34m)\u001b[0m\u001b[0;34m)\u001b[0m\u001b[0;34m\u001b[0m\u001b[0;34m\u001b[0m\u001b[0m\n\u001b[0m",
      "\u001b[0;32m~/Dropbox/Root-Finding-Simulation/MSML/../../BlockScience/MSML/src/Load/load.py\u001b[0m in \u001b[0;36mload_from_json\u001b[0;34m(json)\u001b[0m\n\u001b[1;32m     40\u001b[0m     \u001b[0mload_control_actions\u001b[0m\u001b[0;34m(\u001b[0m\u001b[0mms\u001b[0m\u001b[0;34m,\u001b[0m \u001b[0mjson\u001b[0m\u001b[0;34m)\u001b[0m\u001b[0;34m\u001b[0m\u001b[0;34m\u001b[0m\u001b[0m\n\u001b[1;32m     41\u001b[0m     \u001b[0mstate_update_transmission_channels\u001b[0m \u001b[0;34m=\u001b[0m \u001b[0mload_mechanisms\u001b[0m\u001b[0;34m(\u001b[0m\u001b[0mms\u001b[0m\u001b[0;34m,\u001b[0m \u001b[0mjson\u001b[0m\u001b[0;34m)\u001b[0m\u001b[0;34m\u001b[0m\u001b[0;34m\u001b[0m\u001b[0m\n\u001b[0;32m---> 42\u001b[0;31m     \u001b[0mload_parameters\u001b[0m\u001b[0;34m(\u001b[0m\u001b[0mms\u001b[0m\u001b[0;34m,\u001b[0m \u001b[0mjson\u001b[0m\u001b[0;34m)\u001b[0m\u001b[0;34m\u001b[0m\u001b[0;34m\u001b[0m\u001b[0m\n\u001b[0m\u001b[1;32m     43\u001b[0m     \u001b[0mload_policies\u001b[0m\u001b[0;34m(\u001b[0m\u001b[0mms\u001b[0m\u001b[0;34m,\u001b[0m \u001b[0mjson\u001b[0m\u001b[0;34m)\u001b[0m\u001b[0;34m\u001b[0m\u001b[0;34m\u001b[0m\u001b[0m\n\u001b[1;32m     44\u001b[0m     \u001b[0mload_stateful_metrics\u001b[0m\u001b[0;34m(\u001b[0m\u001b[0mms\u001b[0m\u001b[0;34m,\u001b[0m \u001b[0mjson\u001b[0m\u001b[0;34m)\u001b[0m\u001b[0;34m\u001b[0m\u001b[0;34m\u001b[0m\u001b[0m\n",
      "\u001b[0;32m~/Dropbox/Root-Finding-Simulation/MSML/../../BlockScience/MSML/src/Load/parameters.py\u001b[0m in \u001b[0;36mload_parameters\u001b[0;34m(ms, json)\u001b[0m\n\u001b[1;32m     40\u001b[0m     \u001b[0;31m# Convert parameter sets\u001b[0m\u001b[0;34m\u001b[0m\u001b[0;34m\u001b[0m\u001b[0m\n\u001b[1;32m     41\u001b[0m     \u001b[0;32mfor\u001b[0m \u001b[0mkey\u001b[0m \u001b[0;32min\u001b[0m \u001b[0mjson\u001b[0m\u001b[0;34m[\u001b[0m\u001b[0;34m\"Parameters\"\u001b[0m\u001b[0;34m]\u001b[0m\u001b[0;34m:\u001b[0m\u001b[0;34m\u001b[0m\u001b[0;34m\u001b[0m\u001b[0m\n\u001b[0;32m---> 42\u001b[0;31m         \u001b[0mms\u001b[0m\u001b[0;34m[\u001b[0m\u001b[0;34m\"Parameters\"\u001b[0m\u001b[0;34m]\u001b[0m\u001b[0;34m[\u001b[0m\u001b[0mkey\u001b[0m\u001b[0;34m]\u001b[0m \u001b[0;34m=\u001b[0m \u001b[0mconvert_parameter_set\u001b[0m\u001b[0;34m(\u001b[0m\u001b[0mms\u001b[0m\u001b[0;34m,\u001b[0m \u001b[0mjson\u001b[0m\u001b[0;34m[\u001b[0m\u001b[0;34m\"Parameters\"\u001b[0m\u001b[0;34m]\u001b[0m\u001b[0;34m[\u001b[0m\u001b[0mkey\u001b[0m\u001b[0;34m]\u001b[0m\u001b[0;34m)\u001b[0m\u001b[0;34m\u001b[0m\u001b[0;34m\u001b[0m\u001b[0m\n\u001b[0m\u001b[1;32m     43\u001b[0m \u001b[0;34m\u001b[0m\u001b[0m\n\u001b[1;32m     44\u001b[0m     \u001b[0;31m# Placeholder for now\u001b[0m\u001b[0;34m\u001b[0m\u001b[0;34m\u001b[0m\u001b[0m\n",
      "\u001b[0;32m~/Dropbox/Root-Finding-Simulation/MSML/../../BlockScience/MSML/src/Load/parameters.py\u001b[0m in \u001b[0;36mconvert_parameter_set\u001b[0;34m(ms, data)\u001b[0m\n\u001b[1;32m     19\u001b[0m             \u001b[0mparam\u001b[0m\u001b[0;34m[\u001b[0m\u001b[0;34m\"metadata\"\u001b[0m\u001b[0;34m]\u001b[0m \u001b[0;34m=\u001b[0m \u001b[0;34m{\u001b[0m\u001b[0;34m}\u001b[0m\u001b[0;34m\u001b[0m\u001b[0;34m\u001b[0m\u001b[0m\n\u001b[1;32m     20\u001b[0m         \u001b[0mcheck_json_keys\u001b[0m\u001b[0;34m(\u001b[0m\u001b[0mparam\u001b[0m\u001b[0;34m,\u001b[0m \u001b[0;34m\"Parameter\"\u001b[0m\u001b[0;34m)\u001b[0m\u001b[0;34m\u001b[0m\u001b[0;34m\u001b[0m\u001b[0m\n\u001b[0;32m---> 21\u001b[0;31m         \u001b[0;32massert\u001b[0m \u001b[0mparam\u001b[0m\u001b[0;34m[\u001b[0m\u001b[0;34m\"variable_type\"\u001b[0m\u001b[0;34m]\u001b[0m \u001b[0;32min\u001b[0m \u001b[0mms\u001b[0m\u001b[0;34m[\u001b[0m\u001b[0;34m\"Types\"\u001b[0m\u001b[0;34m]\u001b[0m\u001b[0;34m,\u001b[0m \u001b[0;34m\"Type not in ms\"\u001b[0m\u001b[0;34m\u001b[0m\u001b[0;34m\u001b[0m\u001b[0m\n\u001b[0m\u001b[1;32m     22\u001b[0m         \u001b[0mparam\u001b[0m\u001b[0;34m[\u001b[0m\u001b[0;34m\"variable_type\"\u001b[0m\u001b[0;34m]\u001b[0m \u001b[0;34m=\u001b[0m \u001b[0mms\u001b[0m\u001b[0;34m[\u001b[0m\u001b[0;34m\"Types\"\u001b[0m\u001b[0;34m]\u001b[0m\u001b[0;34m[\u001b[0m\u001b[0mparam\u001b[0m\u001b[0;34m[\u001b[0m\u001b[0;34m\"variable_type\"\u001b[0m\u001b[0;34m]\u001b[0m\u001b[0;34m]\u001b[0m\u001b[0;34m\u001b[0m\u001b[0;34m\u001b[0m\u001b[0m\n\u001b[1;32m     23\u001b[0m         \u001b[0mnew_parameters\u001b[0m\u001b[0;34m.\u001b[0m\u001b[0mappend\u001b[0m\u001b[0;34m(\u001b[0m\u001b[0mParameter\u001b[0m\u001b[0;34m(\u001b[0m\u001b[0mparam\u001b[0m\u001b[0;34m)\u001b[0m\u001b[0;34m)\u001b[0m\u001b[0;34m\u001b[0m\u001b[0;34m\u001b[0m\u001b[0m\n",
      "\u001b[0;31mTypeError\u001b[0m: unhashable type: 'dict'"
     ]
    }
   ],
   "source": [
    "import os\n",
    "import sys\n",
    "\n",
    "sys.path.append(\"../../BlockScience\")\n",
    "\n",
    "\n",
    "from MSML.src import (load_from_json, create_action_chains_graph, write_out_boundary_actions,\n",
    "                      write_out_policies, write_out_mechanisms, load_svg_graphviz, write_basic_report_full,\n",
    "                      write_action_chain_reports, write_spec_tree, create_parameter_impact_table,\n",
    "                     write_entity_reports, write_wiring_report, write_overview)\n",
    "from IPython.display import display, display_html\n",
    "from copy import deepcopy\n",
    "from src import math_spec_json\n",
    "ms = load_from_json(deepcopy(math_spec_json))"
   ]
  },
  {
   "cell_type": "code",
   "execution_count": 2,
   "id": "ff2b302a",
   "metadata": {},
   "outputs": [],
   "source": [
    "write_wiring_report(ms, \"reports\", \"Simulation Block\")\n",
    "write_overview(ms, \"Root Finding Simulation Mathematical Specification\", \"README.md\", summary=\"This model aims to compare different methods for root finding in terms of both accuracy and computational time.\")"
   ]
  },
  {
   "cell_type": "code",
   "execution_count": 3,
   "id": "2add4538",
   "metadata": {},
   "outputs": [
    {
     "data": {
      "text/plain": [
       "{'Boundary Actions': [],\n",
       " 'Control Actions': [<MSML.src.Classes.ControlAction.ControlAction at 0x7fb281f49790>],\n",
       " 'Policies': [<MSML.src.Classes.Policy.Policy at 0x7fb281f5d430>,\n",
       "  <MSML.src.Classes.Policy.Policy at 0x7fb281f5d340>,\n",
       "  <MSML.src.Classes.Policy.Policy at 0x7fb281f5d250>,\n",
       "  <MSML.src.Classes.Policy.Policy at 0x7fb281f5d1f0>,\n",
       "  <MSML.src.Classes.Policy.Policy at 0x7fb281f5d430>,\n",
       "  <MSML.src.Classes.Policy.Policy at 0x7fb281f5d340>],\n",
       " 'Mechanisms': [<MSML.src.Classes.Mechanism.Mechanism at 0x7fb281f49ac0>,\n",
       "  <MSML.src.Classes.Mechanism.Mechanism at 0x7fb281f499d0>,\n",
       "  <MSML.src.Classes.Mechanism.Mechanism at 0x7fb281f498e0>,\n",
       "  <MSML.src.Classes.Mechanism.Mechanism at 0x7fb281f49ca0>,\n",
       "  <MSML.src.Classes.Mechanism.Mechanism at 0x7fb281f498e0>,\n",
       "  <MSML.src.Classes.Mechanism.Mechanism at 0x7fb281f49bb0>,\n",
       "  <MSML.src.Classes.Mechanism.Mechanism at 0x7fb281f498e0>,\n",
       "  <MSML.src.Classes.Mechanism.Mechanism at 0x7fb281f497f0>,\n",
       "  <MSML.src.Classes.Mechanism.Mechanism at 0x7fb281f499d0>,\n",
       "  <MSML.src.Classes.Mechanism.Mechanism at 0x7fb281f498e0>,\n",
       "  <MSML.src.Classes.Mechanism.Mechanism at 0x7fb281f49ca0>,\n",
       "  <MSML.src.Classes.Mechanism.Mechanism at 0x7fb281f498e0>,\n",
       "  <MSML.src.Classes.Mechanism.Mechanism at 0x7fb281f49bb0>,\n",
       "  <MSML.src.Classes.Mechanism.Mechanism at 0x7fb281f49ac0>,\n",
       "  <MSML.src.Classes.Mechanism.Mechanism at 0x7fb281f497f0>],\n",
       " 'State Updates': [],\n",
       " 'Entities2': [],\n",
       " 'Spaces': {Computation Time Metric Space,\n",
       "  Empty Space,\n",
       "  Terminating Space,\n",
       "  Update X Space,\n",
       "  Update Y Prime Space,\n",
       "  Update Y Space},\n",
       " 'Parameters': {'f', 'f_prime', 'max_iterations', 'root_finding_method'},\n",
       " 'Wiring': [<MSML.src.Classes.Block.StackBlock at 0x7fb281f5d850>,\n",
       "  <MSML.src.Classes.Block.StackBlock at 0x7fb281f5d820>,\n",
       "  <MSML.src.Classes.Block.ParallelBlock at 0x7fb281f5d7f0>,\n",
       "  <MSML.src.Classes.Block.StackBlock at 0x7fb281f5d6a0>,\n",
       "  <MSML.src.Classes.Block.ParallelBlock at 0x7fb281f5d670>,\n",
       "  <MSML.src.Classes.Block.StackBlock at 0x7fb281f5d7c0>,\n",
       "  <MSML.src.Classes.Block.ParallelBlock at 0x7fb281f5d6d0>,\n",
       "  <MSML.src.Classes.Block.StackBlock at 0x7fb281f5d730>,\n",
       "  <MSML.src.Classes.Block.ParallelBlock at 0x7fb281f5d700>,\n",
       "  <MSML.src.Classes.Block.ParallelBlock at 0x7fb281f5d7f0>,\n",
       "  <MSML.src.Classes.Block.StackBlock at 0x7fb281f5d6a0>,\n",
       "  <MSML.src.Classes.Block.ParallelBlock at 0x7fb281f5d670>,\n",
       "  <MSML.src.Classes.Block.StackBlock at 0x7fb281f5d7c0>,\n",
       "  <MSML.src.Classes.Block.ParallelBlock at 0x7fb281f5d6d0>,\n",
       "  <MSML.src.Classes.Block.StackBlock at 0x7fb281f5d760>],\n",
       " 'Entities': [],\n",
       " 'State': []}"
      ]
     },
     "execution_count": 3,
     "metadata": {},
     "output_type": "execute_result"
    }
   ],
   "source": [
    "ms.crawl_wiring(\"Simulation Block\")"
   ]
  },
  {
   "cell_type": "code",
   "execution_count": null,
   "id": "e6666a91",
   "metadata": {},
   "outputs": [],
   "source": []
  },
  {
   "cell_type": "code",
   "execution_count": 4,
   "id": "c6b32f5a",
   "metadata": {},
   "outputs": [],
   "source": [
    "write_basic_report_full(ms, \"reports\", \"Basic Report\")\n",
    "\n",
    "write_action_chain_reports(ms, \"reports\", [\"Initialization Control Action\"])\n",
    "write_entity_reports(ms, \"reports\", [\"Dummy\"])"
   ]
  },
  {
   "cell_type": "code",
   "execution_count": 5,
   "id": "771fa30a",
   "metadata": {},
   "outputs": [
    {
     "name": "stdout",
     "output_type": "stream",
     "text": [
      "├──Entities\n",
      "│   ├──Dummy\n",
      "├──State\n",
      "│   ├──Dummy\n",
      "│   │   ├──Variable A\n",
      "│   │   ├──Variable B\n",
      "│   │   ├──Variable C\n",
      "│   ├──Global\n",
      "├──Stateful Metrics\n",
      "│   ├──Dummy Stateful Metrics\n",
      "│   │   ├──dummy_metric\n",
      "├──Spaces\n",
      "│   ├──Terminating Space\n",
      "│   ├──Empty Space\n",
      "│   ├──Initialization Space\n",
      "│   ├──Update X Space\n",
      "│   ├──Update Y Space\n",
      "│   ├──Update Y Prime Space\n",
      "│   ├──None Space\n",
      "│   ├──Computation Time Metric Space\n",
      "│   ├──State Metric Space\n",
      "├──Parameters\n",
      "│   ├──Iteration\n",
      "│   │   ├──max_iterations\n",
      "│   │   ├──tolerance\n",
      "│   │   ├──f\n",
      "│   │   ├──f_prime\n",
      "│   │   ├──root_finding_method\n",
      "├──Boundary Actions\n",
      "├──Control Actions\n",
      "│   ├──Initialization Control Action\n",
      "├──Policies\n",
      "│   ├──Iteration Controller Policy\n",
      "│   ├──Iteration Policy\n",
      "│   ├──Calculate Y Policy\n",
      "│   ├──Calculate Y Prime Policy\n",
      "├──Mechanisms\n",
      "│   ├──Update X Mechanism\n",
      "│   ├──Log Computation Time Metric Mechanism\n",
      "│   ├──Increment Iteration Step Mechanism\n",
      "│   ├──Set Simulation Time Mechanism\n",
      "│   ├──Update Y Mechanism\n",
      "│   ├──Update Y Prime Mechanism\n",
      "│   ├──Log State Metric Mechanism\n",
      "\n"
     ]
    }
   ],
   "source": [
    "print(write_spec_tree(ms))"
   ]
  },
  {
   "cell_type": "code",
   "execution_count": 6,
   "id": "355b66bd",
   "metadata": {},
   "outputs": [
    {
     "name": "stdout",
     "output_type": "stream",
     "text": [
      "                    Boundary Actions Control Actions  \\\n",
      "max_iterations                    []              []   \n",
      "tolerance                         []              []   \n",
      "f                                 []              []   \n",
      "f_prime                           []              []   \n",
      "root_finding_method               []              []   \n",
      "\n",
      "                                          Policies Mechanisms  \n",
      "max_iterations       [Iteration Controller Policy]         []  \n",
      "tolerance                                       []         []  \n",
      "f                             [Calculate Y Policy]         []  \n",
      "f_prime                 [Calculate Y Prime Policy]         []  \n",
      "root_finding_method             [Iteration Policy]         []  \n",
      "\n",
      "                    Boundary Actions Control Actions  \\\n",
      "max_iterations                    []              []   \n",
      "tolerance                         []              []   \n",
      "f                                 []              []   \n",
      "f_prime                           []              []   \n",
      "root_finding_method               []              []   \n",
      "\n",
      "                                          Policies Mechanisms Entities  \n",
      "max_iterations       [Iteration Controller Policy]         []       []  \n",
      "tolerance                                       []         []       []  \n",
      "f                             [Calculate Y Policy]         []       []  \n",
      "f_prime                 [Calculate Y Prime Policy]         []       []  \n",
      "root_finding_method             [Iteration Policy]         []       []  \n",
      "\n",
      "Iteration Controller Policy         [max_iterations]\n",
      "Calculate Y Policy                               [f]\n",
      "Calculate Y Prime Policy                   [f_prime]\n",
      "Iteration Policy               [root_finding_method]\n",
      "dtype: object\n",
      "\n",
      "Iteration Controller Policy         [max_iterations]\n",
      "Calculate Y Policy                               [f]\n",
      "Calculate Y Prime Policy                   [f_prime]\n",
      "Iteration Policy               [root_finding_method]\n",
      "dtype: object\n"
     ]
    }
   ],
   "source": [
    "print(create_parameter_impact_table(ms.param_links, orientation=\"Parameters\"))\n",
    "print()\n",
    "print(create_parameter_impact_table(ms.param_links_exploded, orientation=\"Parameters\"))\n",
    "print()\n",
    "print(create_parameter_impact_table(ms.param_links, orientation=\"Blocks\"))\n",
    "print()\n",
    "print(create_parameter_impact_table(ms.param_links_exploded, orientation=\"Blocks\"))"
   ]
  },
  {
   "cell_type": "code",
   "execution_count": null,
   "id": "921abc27",
   "metadata": {},
   "outputs": [],
   "source": []
  },
  {
   "cell_type": "code",
   "execution_count": null,
   "id": "8a5332bd",
   "metadata": {},
   "outputs": [],
   "source": []
  }
 ],
 "metadata": {
  "kernelspec": {
   "display_name": "Python 3 (ipykernel)",
   "language": "python",
   "name": "python3"
  },
  "language_info": {
   "codemirror_mode": {
    "name": "ipython",
    "version": 3
   },
   "file_extension": ".py",
   "mimetype": "text/x-python",
   "name": "python",
   "nbconvert_exporter": "python",
   "pygments_lexer": "ipython3",
   "version": "3.9.12"
  }
 },
 "nbformat": 4,
 "nbformat_minor": 5
}
