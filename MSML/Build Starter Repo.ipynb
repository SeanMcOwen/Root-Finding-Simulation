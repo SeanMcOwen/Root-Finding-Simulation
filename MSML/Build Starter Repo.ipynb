{
 "cells": [
  {
   "cell_type": "code",
   "execution_count": 1,
   "id": "8f2ca968",
   "metadata": {},
   "outputs": [
    {
     "name": "stderr",
     "output_type": "stream",
     "text": [
      "/Users/seanmcowen/opt/anaconda3/lib/python3.9/site-packages/pandas/core/computation/expressions.py:21: UserWarning: Pandas requires version '2.8.4' or newer of 'numexpr' (version '2.7.3' currently installed).\n",
      "  from pandas.core.computation.check import NUMEXPR_INSTALLED\n",
      "/Users/seanmcowen/opt/anaconda3/lib/python3.9/site-packages/pandas/core/arrays/masked.py:60: UserWarning: Pandas requires version '1.3.6' or newer of 'bottleneck' (version '1.3.2' currently installed).\n",
      "  from pandas.core import (\n"
     ]
    }
   ],
   "source": [
    "import os\n",
    "import sys\n",
    "\n",
    "sys.path.append(\"../../BlockScience\")\n",
    "\n",
    "\n",
    "from MSML.src import (load_from_json, create_action_chains_graph, write_out_boundary_actions,\n",
    "                      write_out_policies, write_out_mechanisms, load_svg_graphviz, write_basic_report_full,\n",
    "                      write_action_chain_reports, write_spec_tree, create_parameter_impact_table,\n",
    "                     write_entity_reports, write_wiring_report, write_overview,\n",
    "                     write_all_markdown_reports, write_spec_tree)\n",
    "from IPython.display import display, display_html\n",
    "from copy import deepcopy\n",
    "from src import math_spec_json\n",
    "ms = load_from_json(deepcopy(math_spec_json))\n",
    "\n",
    "d = \"reports/Markdown\"\n",
    "write_all_markdown_reports(ms, d)\n",
    "write_spec_tree(ms, path=d, linking=True)\n",
    "write_wiring_report(ms, \"reports\", \"Simulation Block\")\n",
    "write_overview(ms, \"Root Finding Simulation Mathematical Specification\", \"README.md\", summary=\"This model aims to compare different methods for root finding in terms of both accuracy and computational time.\")\n",
    "write_basic_report_full(ms, \"reports\", \"Basic Report\")\n",
    "write_action_chain_reports(ms, \"reports\", [\"Initialization Control Action\"])"
   ]
  },
  {
   "cell_type": "code",
   "execution_count": 2,
   "id": "450d8d2d",
   "metadata": {},
   "outputs": [],
   "source": [
    "from src.Implementations.Python import implementation"
   ]
  },
  {
   "cell_type": "code",
   "execution_count": 11,
   "id": "83d9f3cf",
   "metadata": {},
   "outputs": [],
   "source": [
    "from typing import Union, _UnionGenericAlias\n",
    "\n",
    "a = Union[\"A\", \"B\"]\n",
    "\n"
   ]
  },
  {
   "cell_type": "code",
   "execution_count": 15,
   "id": "25e64048",
   "metadata": {},
   "outputs": [
    {
     "data": {
      "text/plain": [
       "typing._SpecialForm"
      ]
     },
     "execution_count": 15,
     "metadata": {},
     "output_type": "execute_result"
    }
   ],
   "source": [
    "type(Union)"
   ]
  },
  {
   "cell_type": "code",
   "execution_count": 16,
   "id": "6327c0c8",
   "metadata": {},
   "outputs": [
    {
     "data": {
      "text/plain": [
       "True"
      ]
     },
     "execution_count": 16,
     "metadata": {},
     "output_type": "execute_result"
    }
   ],
   "source": [
    "type(a) == _UnionGenericAlias"
   ]
  },
  {
   "cell_type": "code",
   "execution_count": 3,
   "id": "fa65b154",
   "metadata": {},
   "outputs": [
    {
     "name": "stdout",
     "output_type": "stream",
     "text": [
      "{'X': 0, 't': 1708406734.78213}\n"
     ]
    }
   ],
   "source": [
    "\n",
    "state = {\"X\": None,\n",
    "        \"t\": None}\n",
    "params = {}\n",
    "\n",
    "spaces = None\n",
    "spaces = implementation['control_action_options']['set_x_0_control_action'](state, params, [])\n",
    "spaces = implementation['mechanisms'][\"update_x_mechanism\"](state, params, spaces)\n",
    "spaces = implementation['mechanisms'][\"set_simulation_time_mechanism\"](state, params, spaces)\n",
    "print(state)"
   ]
  },
  {
   "cell_type": "code",
   "execution_count": 2,
   "id": "355b66bd",
   "metadata": {},
   "outputs": [
    {
     "name": "stdout",
     "output_type": "stream",
     "text": [
      "                    Boundary Actions Control Actions  \\\n",
      "max_iterations                    []              []   \n",
      "tolerance                         []              []   \n",
      "f                                 []              []   \n",
      "f_prime                           []              []   \n",
      "root_finding_method               []              []   \n",
      "\n",
      "                                          Policies Mechanisms  \n",
      "max_iterations       [Iteration Controller Policy]         []  \n",
      "tolerance                                       []         []  \n",
      "f                             [Calculate Y Policy]         []  \n",
      "f_prime                 [Calculate Y Prime Policy]         []  \n",
      "root_finding_method             [Iteration Policy]         []  \n",
      "\n",
      "                    Boundary Actions Control Actions  \\\n",
      "max_iterations                    []              []   \n",
      "tolerance                         []              []   \n",
      "f                                 []              []   \n",
      "f_prime                           []              []   \n",
      "root_finding_method               []              []   \n",
      "\n",
      "                                          Policies Mechanisms Entities  \n",
      "max_iterations       [Iteration Controller Policy]         []       []  \n",
      "tolerance                                       []         []       []  \n",
      "f                             [Calculate Y Policy]         []       []  \n",
      "f_prime                 [Calculate Y Prime Policy]         []       []  \n",
      "root_finding_method             [Iteration Policy]         []       []  \n",
      "\n",
      "Iteration Controller Policy         [max_iterations]\n",
      "Calculate Y Policy                               [f]\n",
      "Calculate Y Prime Policy                   [f_prime]\n",
      "Iteration Policy               [root_finding_method]\n",
      "dtype: object\n",
      "\n",
      "Iteration Controller Policy         [max_iterations]\n",
      "Calculate Y Policy                               [f]\n",
      "Calculate Y Prime Policy                   [f_prime]\n",
      "Iteration Policy               [root_finding_method]\n",
      "dtype: object\n"
     ]
    }
   ],
   "source": [
    "print(create_parameter_impact_table(ms.param_links, orientation=\"Parameters\"))\n",
    "print()\n",
    "print(create_parameter_impact_table(ms.param_links_exploded, orientation=\"Parameters\"))\n",
    "print()\n",
    "print(create_parameter_impact_table(ms.param_links, orientation=\"Blocks\"))\n",
    "print()\n",
    "print(create_parameter_impact_table(ms.param_links_exploded, orientation=\"Blocks\"))"
   ]
  },
  {
   "cell_type": "code",
   "execution_count": null,
   "id": "921abc27",
   "metadata": {},
   "outputs": [],
   "source": []
  },
  {
   "cell_type": "code",
   "execution_count": null,
   "id": "8a5332bd",
   "metadata": {},
   "outputs": [],
   "source": []
  }
 ],
 "metadata": {
  "kernelspec": {
   "display_name": "Python 3 (ipykernel)",
   "language": "python",
   "name": "python3"
  },
  "language_info": {
   "codemirror_mode": {
    "name": "ipython",
    "version": 3
   },
   "file_extension": ".py",
   "mimetype": "text/x-python",
   "name": "python",
   "nbconvert_exporter": "python",
   "pygments_lexer": "ipython3",
   "version": "3.9.7"
  }
 },
 "nbformat": 4,
 "nbformat_minor": 5
}
