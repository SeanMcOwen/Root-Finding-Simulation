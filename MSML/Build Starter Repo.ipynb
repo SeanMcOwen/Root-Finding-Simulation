{
 "cells": [
  {
   "cell_type": "code",
   "execution_count": 1,
   "id": "8f2ca968",
   "metadata": {},
   "outputs": [],
   "source": [
    "import os\n",
    "import sys\n",
    "\n",
    "from src import math_spec_json\n",
    "sys.path.append(\"../../BlockScience\")\n",
    "\n",
    "\n",
    "from MSML.src.math_spec_mapping import (load_from_json, create_action_chains_graph, write_out_boundary_actions,\n",
    "                      write_out_policies, write_out_mechanisms, load_svg_graphviz, write_basic_report_full,\n",
    "                      write_action_chain_reports, write_spec_tree, create_parameter_impact_table,\n",
    "                     write_entity_reports, write_wiring_report, write_overview,\n",
    "                     write_all_markdown_reports, write_spec_tree)\n",
    "from IPython.display import display, display_html\n",
    "from copy import deepcopy\n",
    "ms = load_from_json(deepcopy(math_spec_json))\n",
    "\n",
    "d = \"reports/Markdown\"\n",
    "write_all_markdown_reports(ms, d)\n",
    "write_spec_tree(ms, path=d, linking=True)\n",
    "\n",
    "ms.metaprogramming_python_types(\"../Model/model\", overwrite=True)\n",
    "ms.metaprogramming_python_spaces(\"../Model/model\", overwrite=True)\n",
    "ms.metaprogramming_python_states(\"../Model/model\", overwrite=True)\n",
    "ms.metaprogramming_python_parameters(\"../Model/model\", overwrite=True)"
   ]
  },
  {
   "cell_type": "code",
   "execution_count": 15,
   "id": "118e9466",
   "metadata": {},
   "outputs": [
    {
     "name": "stdout",
     "output_type": "stream",
     "text": [
      "No python implementation for Iteration Controller Policy / Constant Iterations Policy Option\n",
      "Iteration Policy has no policy options\n",
      "Calculate Y Prime Policy has no policy options\n",
      "No python implementation for Increment Iteration Step Mechanism\n",
      "No python implementation for Update Y Prime Mechanism\n",
      "No python implementation for Log State Metric Mechanism\n",
      "The following wirings were not loading: ['Calculate Y Prime Parallel Block', 'Calculate Y Prime Block', 'Iteration Block', 'Calculate Dependent Variables Block', 'Root Finding Block', 'Simulation Block']\n"
     ]
    }
   ],
   "source": [
    "def test_function(X):\n",
    "    return (X-5)**2\n",
    "state = {\"X\": None,\n",
    "        \"t\": None,\n",
    "        \"Y\": None}\n",
    "params = {\"f\": test_function,\n",
    "         \"root_finding_method\": None,\n",
    "          \"FP Iteration Controller Policy\": \"Constant Iterations Policy Option\",}\n",
    "\n",
    "spaces = None\n",
    "\n",
    "msi = ms.build_implementation(params)"
   ]
  },
  {
   "cell_type": "code",
   "execution_count": 30,
   "id": "796eb67b",
   "metadata": {},
   "outputs": [
    {
     "data": {
      "text/plain": [
       "'Update Y Prime Mechanism'"
      ]
     },
     "execution_count": 30,
     "metadata": {},
     "output_type": "execute_result"
    }
   ],
   "source": [
    "ms.blocks['Calculate Dependent Variables Block'].components[1].components[1].components[0].name"
   ]
  },
  {
   "cell_type": "code",
   "execution_count": 24,
   "id": "9f631106",
   "metadata": {},
   "outputs": [
    {
     "data": {
      "text/plain": [
       "<MSML.src.math_spec_mapping.Classes.Policy.Policy at 0x7fbaea0b47c0>"
      ]
     },
     "execution_count": 24,
     "metadata": {},
     "output_type": "execute_result"
    }
   ],
   "source": [
    "ms.blocks['Calculate Y Prime Policy']"
   ]
  },
  {
   "cell_type": "code",
   "execution_count": 18,
   "id": "752a704a",
   "metadata": {},
   "outputs": [],
   "source": [
    "spaces = msi.blocks[\"Initialization Block\"](state, params, spaces)\n",
    "spaces = msi.blocks['Calculate Y Block'](state, params, spaces)"
   ]
  },
  {
   "cell_type": "code",
   "execution_count": 4,
   "id": "3f63cb9d",
   "metadata": {},
   "outputs": [
    {
     "data": {
      "text/plain": [
       "[]"
      ]
     },
     "execution_count": 4,
     "metadata": {},
     "output_type": "execute_result"
    }
   ],
   "source": [
    "msi.blocks['Calculate Y Parallel Block'](state, params, spaces)"
   ]
  },
  {
   "cell_type": "code",
   "execution_count": 8,
   "id": "09adf47f",
   "metadata": {},
   "outputs": [
    {
     "data": {
      "text/plain": [
       "['Update Y Mechanism', 'Log Computation Time Metric Mechanism']"
      ]
     },
     "execution_count": 8,
     "metadata": {},
     "output_type": "execute_result"
    }
   ],
   "source": [
    "[x.name for x in ms.blocks['Calculate Y Parallel Block'].components]"
   ]
  },
  {
   "cell_type": "code",
   "execution_count": 14,
   "id": "fa1aa11f",
   "metadata": {},
   "outputs": [
    {
     "data": {
      "text/plain": [
       "<function MSML.src.math_spec_mapping.Classes.MathSpec.MathSpecImplementation.load_single_wiring.<locals>.wiring(state, params, spaces)>"
      ]
     },
     "execution_count": 14,
     "metadata": {},
     "output_type": "execute_result"
    }
   ],
   "source": []
  },
  {
   "cell_type": "code",
   "execution_count": 20,
   "id": "6cd1d11c",
   "metadata": {},
   "outputs": [],
   "source": [
    "msi.blocks['Calculate Y Block'](state, params, spaces)"
   ]
  },
  {
   "cell_type": "code",
   "execution_count": 26,
   "id": "fc76db65",
   "metadata": {},
   "outputs": [
    {
     "data": {
      "text/plain": [
       "'Calculate Y Parallel Block'"
      ]
     },
     "execution_count": 26,
     "metadata": {},
     "output_type": "execute_result"
    }
   ],
   "source": [
    "ms.blocks['Calculate Y Block'].components[1].name"
   ]
  },
  {
   "cell_type": "code",
   "execution_count": 33,
   "id": "4c09d932",
   "metadata": {},
   "outputs": [],
   "source": [
    "spaces = [(), ()]"
   ]
  },
  {
   "cell_type": "code",
   "execution_count": 35,
   "id": "f6bce85b",
   "metadata": {},
   "outputs": [
    {
     "name": "stdout",
     "output_type": "stream",
     "text": [
      "{'Update Y Mechanism': [()], 'Log Computation Time Metric Mechanism': [()]}\n"
     ]
    }
   ],
   "source": [
    "a = ms.blocks['Calculate Y Parallel Block']\n",
    "\n",
    "\n",
    "spaces_mapping = {}\n",
    "for x in a.components:\n",
    "    spaces_mapping[x.name] = []\n",
    "\n",
    "\n",
    "for x,y in zip([x.name for x in a.domain_blocks], spaces):\n",
    "    spaces_mapping[x].append(y)\n",
    "print(spaces_mapping)"
   ]
  },
  {
   "cell_type": "code",
   "execution_count": 34,
   "id": "9ae0c53d",
   "metadata": {},
   "outputs": [],
   "source": []
  },
  {
   "cell_type": "code",
   "execution_count": 17,
   "id": "09066dbd",
   "metadata": {},
   "outputs": [
    {
     "ename": "KeyError",
     "evalue": "'Calculate Y Prime Block'",
     "output_type": "error",
     "traceback": [
      "\u001b[0;31m---------------------------------------------------------------------------\u001b[0m",
      "\u001b[0;31mKeyError\u001b[0m                                  Traceback (most recent call last)",
      "\u001b[0;32m/var/folders/y0/fwkpk2ps087b_2qxvhjstrfr0000gn/T/ipykernel_8053/3373373400.py\u001b[0m in \u001b[0;36m<module>\u001b[0;34m\u001b[0m\n\u001b[0;32m----> 1\u001b[0;31m \u001b[0mmsi\u001b[0m\u001b[0;34m.\u001b[0m\u001b[0mblocks\u001b[0m\u001b[0;34m[\u001b[0m\u001b[0;34m'Calculate Y Prime Block'\u001b[0m\u001b[0;34m]\u001b[0m\u001b[0;34m\u001b[0m\u001b[0;34m\u001b[0m\u001b[0m\n\u001b[0m",
      "\u001b[0;31mKeyError\u001b[0m: 'Calculate Y Prime Block'"
     ]
    }
   ],
   "source": [
    "msi.blocks['Calculate Y Prime Block']"
   ]
  },
  {
   "cell_type": "code",
   "execution_count": 18,
   "id": "1fb5d3ba",
   "metadata": {},
   "outputs": [
    {
     "data": {
      "text/plain": [
       "'Increment Iteration Step Mechanism'"
      ]
     },
     "execution_count": 18,
     "metadata": {},
     "output_type": "execute_result"
    }
   ],
   "source": [
    "ms.wiring['Calculate Dependent Variables Block'].components[2].name"
   ]
  },
  {
   "cell_type": "code",
   "execution_count": 7,
   "id": "6233c96b",
   "metadata": {},
   "outputs": [
    {
     "ename": "KeyError",
     "evalue": "'Calculate Y Prime Block'",
     "output_type": "error",
     "traceback": [
      "\u001b[0;31m---------------------------------------------------------------------------\u001b[0m",
      "\u001b[0;31mKeyError\u001b[0m                                  Traceback (most recent call last)",
      "\u001b[0;32m/var/folders/y0/fwkpk2ps087b_2qxvhjstrfr0000gn/T/ipykernel_3335/3203207659.py\u001b[0m in \u001b[0;36m<module>\u001b[0;34m\u001b[0m\n\u001b[0;32m----> 1\u001b[0;31m \u001b[0mmsi\u001b[0m\u001b[0;34m.\u001b[0m\u001b[0mwiring\u001b[0m\u001b[0;34m[\u001b[0m\u001b[0;34m'Calculate Y Prime Block'\u001b[0m\u001b[0;34m]\u001b[0m\u001b[0;34m(\u001b[0m\u001b[0mstate\u001b[0m\u001b[0;34m,\u001b[0m \u001b[0mparams\u001b[0m\u001b[0;34m,\u001b[0m \u001b[0mspaces\u001b[0m\u001b[0;34m)\u001b[0m\u001b[0;34m\u001b[0m\u001b[0;34m\u001b[0m\u001b[0m\n\u001b[0m",
      "\u001b[0;31mKeyError\u001b[0m: 'Calculate Y Prime Block'"
     ]
    }
   ],
   "source": [
    "msi.wiring['Calculate Y Prime Block'](state, params, spaces)"
   ]
  },
  {
   "cell_type": "code",
   "execution_count": 5,
   "id": "882d17b7",
   "metadata": {},
   "outputs": [
    {
     "name": "stdout",
     "output_type": "stream",
     "text": [
      "{'X': 0, 't': 1712286913.92392}\n"
     ]
    }
   ],
   "source": [
    "print(state)"
   ]
  },
  {
   "cell_type": "code",
   "execution_count": null,
   "id": "3db514eb",
   "metadata": {},
   "outputs": [],
   "source": [
    "spaces = None\n",
    "spaces = msi.control_actions['Initialization Control Action'](state, params, spaces)\n",
    "spaces = msi.mechanisms['Update X Mechanism'](state, params, spaces)\n",
    "spaces = msi.mechanisms['Set Simulation Time Mechanism'](state, params, spaces)\n",
    "print(state)"
   ]
  },
  {
   "cell_type": "code",
   "execution_count": null,
   "id": "ad929fd0",
   "metadata": {},
   "outputs": [],
   "source": [
    "action = ms.control_actions['Initialization Control Action'].control_action_options[0].implementations['python']\n",
    "spaces = action(state, params, spaces)\n",
    "\n",
    "action = ms.mechanisms['Update X Mechanism'].implementations['python']\n",
    "spaces = action(state, params, spaces)\n",
    "\n",
    "action = ms.mechanisms['Set Simulation Time Mechanism'].implementations['python']\n",
    "spaces = action(state, params, spaces)"
   ]
  },
  {
   "cell_type": "code",
   "execution_count": null,
   "id": "2a907a7e",
   "metadata": {},
   "outputs": [],
   "source": [
    "spaces"
   ]
  },
  {
   "cell_type": "code",
   "execution_count": null,
   "id": "7b3d2082",
   "metadata": {},
   "outputs": [],
   "source": [
    "action = ms.policies[\"Calculate Y Policy\"].policy_options[0].implementations['python']\n",
    "spaces = action(state, params, spaces)"
   ]
  },
  {
   "cell_type": "code",
   "execution_count": null,
   "id": "98fc0601",
   "metadata": {},
   "outputs": [],
   "source": [
    "spaces"
   ]
  },
  {
   "cell_type": "code",
   "execution_count": null,
   "id": "0093ffdb",
   "metadata": {},
   "outputs": [],
   "source": [
    "ms.policies['Calculate Y Policy']"
   ]
  },
  {
   "cell_type": "code",
   "execution_count": null,
   "id": "fe25a3c4",
   "metadata": {},
   "outputs": [],
   "source": [
    "import inspect\n",
    "a = float\n",
    "ms.metaprogramming_python_types(\"../Model/model\")"
   ]
  },
  {
   "cell_type": "code",
   "execution_count": null,
   "id": "d515cdf8",
   "metadata": {},
   "outputs": [],
   "source": []
  },
  {
   "cell_type": "code",
   "execution_count": null,
   "id": "5a55ea2e",
   "metadata": {},
   "outputs": [],
   "source": []
  },
  {
   "cell_type": "code",
   "execution_count": null,
   "id": "f82450ce",
   "metadata": {},
   "outputs": [],
   "source": [
    "\n",
    "write_wiring_report(ms, \"reports\", \"Simulation Block\")\n",
    "write_overview(ms, \"Root Finding Simulation Mathematical Specification\", \"README.md\", summary=\"This model aims to compare different methods for root finding in terms of both accuracy and computational time.\")\n",
    "write_basic_report_full(ms, \"reports\", \"Basic Report\")\n",
    "write_action_chain_reports(ms, \"reports\", [\"Initialization Control Action\"])"
   ]
  },
  {
   "cell_type": "code",
   "execution_count": null,
   "id": "d114abdb",
   "metadata": {},
   "outputs": [],
   "source": []
  },
  {
   "cell_type": "code",
   "execution_count": null,
   "id": "32eccbfd",
   "metadata": {},
   "outputs": [],
   "source": [
    "state"
   ]
  },
  {
   "cell_type": "code",
   "execution_count": null,
   "id": "b712e500",
   "metadata": {},
   "outputs": [],
   "source": [
    "action = ms.mechanisms"
   ]
  },
  {
   "cell_type": "code",
   "execution_count": null,
   "id": "55b905ea",
   "metadata": {},
   "outputs": [],
   "source": [
    "ms.control_actions['Initialization Control Action'].control_action_options[0].name"
   ]
  },
  {
   "cell_type": "code",
   "execution_count": null,
   "id": "450d8d2d",
   "metadata": {},
   "outputs": [],
   "source": [
    "from src.Implementations.Python import implementation"
   ]
  },
  {
   "cell_type": "code",
   "execution_count": null,
   "id": "9209ebcc",
   "metadata": {},
   "outputs": [],
   "source": []
  },
  {
   "cell_type": "code",
   "execution_count": null,
   "id": "07697425",
   "metadata": {},
   "outputs": [],
   "source": []
  },
  {
   "cell_type": "code",
   "execution_count": null,
   "id": "83d9f3cf",
   "metadata": {},
   "outputs": [],
   "source": [
    "from typing import Union, _UnionGenericAlias\n",
    "\n",
    "a = Union[\"A\", \"B\"]\n",
    "\n"
   ]
  },
  {
   "cell_type": "code",
   "execution_count": null,
   "id": "25e64048",
   "metadata": {},
   "outputs": [],
   "source": [
    "type(Union)"
   ]
  },
  {
   "cell_type": "code",
   "execution_count": null,
   "id": "6327c0c8",
   "metadata": {},
   "outputs": [],
   "source": [
    "type(a) == _UnionGenericAlias"
   ]
  },
  {
   "cell_type": "code",
   "execution_count": null,
   "id": "fa65b154",
   "metadata": {},
   "outputs": [],
   "source": [
    "\n",
    "state = {\"X\": None,\n",
    "        \"t\": None}\n",
    "params = {}\n",
    "\n",
    "spaces = None\n",
    "spaces = implementation['control_action_options']['set_x_0_control_action'](state, params, [])\n",
    "spaces = implementation['mechanisms'][\"update_x_mechanism\"](state, params, spaces)\n",
    "spaces = implementation['mechanisms'][\"set_simulation_time_mechanism\"](state, params, spaces)\n",
    "print(state)"
   ]
  },
  {
   "cell_type": "code",
   "execution_count": null,
   "id": "355b66bd",
   "metadata": {},
   "outputs": [],
   "source": [
    "print(create_parameter_impact_table(ms.param_links, orientation=\"Parameters\"))\n",
    "print()\n",
    "print(create_parameter_impact_table(ms.param_links_exploded, orientation=\"Parameters\"))\n",
    "print()\n",
    "print(create_parameter_impact_table(ms.param_links, orientation=\"Blocks\"))\n",
    "print()\n",
    "print(create_parameter_impact_table(ms.param_links_exploded, orientation=\"Blocks\"))"
   ]
  },
  {
   "cell_type": "code",
   "execution_count": null,
   "id": "921abc27",
   "metadata": {},
   "outputs": [],
   "source": []
  },
  {
   "cell_type": "code",
   "execution_count": null,
   "id": "8a5332bd",
   "metadata": {},
   "outputs": [],
   "source": []
  }
 ],
 "metadata": {
  "kernelspec": {
   "display_name": "Python 3 (ipykernel)",
   "language": "python",
   "name": "python3"
  },
  "language_info": {
   "codemirror_mode": {
    "name": "ipython",
    "version": 3
   },
   "file_extension": ".py",
   "mimetype": "text/x-python",
   "name": "python",
   "nbconvert_exporter": "python",
   "pygments_lexer": "ipython3",
   "version": "3.9.12"
  }
 },
 "nbformat": 4,
 "nbformat_minor": 5
}
