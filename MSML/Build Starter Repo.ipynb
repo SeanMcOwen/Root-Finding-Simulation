{
 "cells": [
  {
   "cell_type": "code",
   "execution_count": 1,
   "id": "8f2ca968",
   "metadata": {},
   "outputs": [],
   "source": [
    "import os\n",
    "import sys\n",
    "\n",
    "from src import math_spec_json\n",
    "sys.path.append(\"../../BlockScience\")\n",
    "\n",
    "\n",
    "from MSML.src.math_spec_mapping import (load_from_json, create_action_chains_graph, write_out_boundary_actions,\n",
    "                      write_out_policies, write_out_mechanisms, load_svg_graphviz, write_basic_report_full,\n",
    "                      write_action_chain_reports, write_spec_tree, create_parameter_impact_table,\n",
    "                     write_entity_reports, write_wiring_report, write_overview,\n",
    "                     write_all_markdown_reports, write_spec_tree)\n",
    "from IPython.display import display, display_html\n",
    "from copy import deepcopy\n",
    "ms = load_from_json(deepcopy(math_spec_json))\n",
    "\n"
   ]
  },
  {
   "cell_type": "code",
   "execution_count": 2,
   "id": "997faaf5",
   "metadata": {},
   "outputs": [
    {
     "data": {
      "text/plain": [
       "['max_iterations', 'tolerance', 'f', 'f_prime', 'root_finding_method']"
      ]
     },
     "execution_count": 2,
     "metadata": {},
     "output_type": "execute_result"
    }
   ],
   "source": [
    "ms.parameters.all_parameters"
   ]
  },
  {
   "cell_type": "code",
   "execution_count": 3,
   "id": "0f6c1b17",
   "metadata": {},
   "outputs": [],
   "source": [
    "def test_function(X):\n",
    "    return (X-5)**2\n"
   ]
  },
  {
   "cell_type": "code",
   "execution_count": 4,
   "id": "4331ee15",
   "metadata": {},
   "outputs": [],
   "source": [
    "\n",
    "state = {\"X\": None,\n",
    "        \"t\": None}\n",
    "params = {\"f\": test_function}\n",
    "\n",
    "spaces = None\n",
    "\n",
    "\n",
    "\n",
    "action = ms.control_actions['Initialization Control Action'].control_action_options[0].implementations['python']\n",
    "spaces = action(state, params, spaces)\n",
    "\n",
    "action = ms.mechanisms['Update X Mechanism'].implementations['python']\n",
    "spaces = action(state, params, spaces)\n",
    "\n",
    "action = ms.mechanisms['Set Simulation Time Mechanism'].implementations['python']\n",
    "spaces = action(state, params, spaces)"
   ]
  },
  {
   "cell_type": "code",
   "execution_count": 5,
   "id": "cad86cd9",
   "metadata": {},
   "outputs": [
    {
     "data": {
      "text/plain": [
       "[<MSML.src.math_spec_mapping.Classes.Policy.PolicyOption at 0x7f93a8e579d0>]"
      ]
     },
     "execution_count": 5,
     "metadata": {},
     "output_type": "execute_result"
    }
   ],
   "source": [
    "ms.policies[\"Calculate Y Policy\"].policy_options"
   ]
  },
  {
   "cell_type": "code",
   "execution_count": 4,
   "id": "27d15ddb",
   "metadata": {},
   "outputs": [
    {
     "data": {
      "text/plain": [
       "<MSML.src.math_spec_mapping.Classes.Policy.Policy at 0x7f9090a438b0>"
      ]
     },
     "execution_count": 4,
     "metadata": {},
     "output_type": "execute_result"
    }
   ],
   "source": [
    "ms.policies['Calculate Y Policy']"
   ]
  },
  {
   "cell_type": "code",
   "execution_count": 3,
   "id": "fe25a3c4",
   "metadata": {},
   "outputs": [],
   "source": [
    "import inspect\n",
    "a = float\n",
    "ms.metaprogramming_python_types(\"../Model/model\")"
   ]
  },
  {
   "cell_type": "code",
   "execution_count": 4,
   "id": "d515cdf8",
   "metadata": {},
   "outputs": [],
   "source": []
  },
  {
   "cell_type": "code",
   "execution_count": 2,
   "id": "5a55ea2e",
   "metadata": {},
   "outputs": [
    {
     "name": "stdout",
     "output_type": "stream",
     "text": [
      "<class 'int'>\n",
      "<class 'float'>\n",
      "<class 'float'>\n",
      "typing.Union[typing.Literal['Bisection'], typing.Literal['Newton'], typing.Literal['Secant'], typing.Literal['Steffensen']]\n",
      "<built-in function callable>\n",
      "<built-in function callable>\n",
      "<class 'float'>\n",
      "<class 'float'>\n",
      "<class 'str'>\n"
     ]
    }
   ],
   "source": []
  },
  {
   "cell_type": "code",
   "execution_count": null,
   "id": "f82450ce",
   "metadata": {},
   "outputs": [],
   "source": [
    "d = \"reports/Markdown\"\n",
    "write_all_markdown_reports(ms, d)\n",
    "write_spec_tree(ms, path=d, linking=True)\n",
    "write_wiring_report(ms, \"reports\", \"Simulation Block\")\n",
    "write_overview(ms, \"Root Finding Simulation Mathematical Specification\", \"README.md\", summary=\"This model aims to compare different methods for root finding in terms of both accuracy and computational time.\")\n",
    "write_basic_report_full(ms, \"reports\", \"Basic Report\")\n",
    "write_action_chain_reports(ms, \"reports\", [\"Initialization Control Action\"])"
   ]
  },
  {
   "cell_type": "code",
   "execution_count": 1,
   "id": "d114abdb",
   "metadata": {},
   "outputs": [
    {
     "ename": "NameError",
     "evalue": "name 'ms' is not defined",
     "output_type": "error",
     "traceback": [
      "\u001b[0;31m---------------------------------------------------------------------------\u001b[0m",
      "\u001b[0;31mNameError\u001b[0m                                 Traceback (most recent call last)",
      "\u001b[0;32m/var/folders/y0/fwkpk2ps087b_2qxvhjstrfr0000gn/T/ipykernel_58825/2497022894.py\u001b[0m in \u001b[0;36m<module>\u001b[0;34m\u001b[0m\n\u001b[1;32m      7\u001b[0m \u001b[0;34m\u001b[0m\u001b[0m\n\u001b[1;32m      8\u001b[0m \u001b[0;34m\u001b[0m\u001b[0m\n\u001b[0;32m----> 9\u001b[0;31m \u001b[0maction\u001b[0m \u001b[0;34m=\u001b[0m \u001b[0mms\u001b[0m\u001b[0;34m.\u001b[0m\u001b[0mcontrol_actions\u001b[0m\u001b[0;34m[\u001b[0m\u001b[0;34m'Initialization Control Action'\u001b[0m\u001b[0;34m]\u001b[0m\u001b[0;34m.\u001b[0m\u001b[0mcontrol_action_options\u001b[0m\u001b[0;34m[\u001b[0m\u001b[0;36m0\u001b[0m\u001b[0;34m]\u001b[0m\u001b[0;34m.\u001b[0m\u001b[0mimplementations\u001b[0m\u001b[0;34m[\u001b[0m\u001b[0;34m'python'\u001b[0m\u001b[0;34m]\u001b[0m\u001b[0;34m\u001b[0m\u001b[0;34m\u001b[0m\u001b[0m\n\u001b[0m\u001b[1;32m     10\u001b[0m \u001b[0mspaces\u001b[0m \u001b[0;34m=\u001b[0m \u001b[0maction\u001b[0m\u001b[0;34m(\u001b[0m\u001b[0mstate\u001b[0m\u001b[0;34m,\u001b[0m \u001b[0mparams\u001b[0m\u001b[0;34m,\u001b[0m \u001b[0mspaces\u001b[0m\u001b[0;34m)\u001b[0m\u001b[0;34m\u001b[0m\u001b[0;34m\u001b[0m\u001b[0m\n\u001b[1;32m     11\u001b[0m \u001b[0;34m\u001b[0m\u001b[0m\n",
      "\u001b[0;31mNameError\u001b[0m: name 'ms' is not defined"
     ]
    }
   ],
   "source": []
  },
  {
   "cell_type": "code",
   "execution_count": 6,
   "id": "32eccbfd",
   "metadata": {},
   "outputs": [
    {
     "data": {
      "text/plain": [
       "{'X': 0, 't': 1711425138.34097}"
      ]
     },
     "execution_count": 6,
     "metadata": {},
     "output_type": "execute_result"
    }
   ],
   "source": [
    "state"
   ]
  },
  {
   "cell_type": "code",
   "execution_count": null,
   "id": "b712e500",
   "metadata": {},
   "outputs": [],
   "source": [
    "action = ms.mechanisms"
   ]
  },
  {
   "cell_type": "code",
   "execution_count": 7,
   "id": "55b905ea",
   "metadata": {},
   "outputs": [
    {
     "data": {
      "text/plain": [
       "'Set X = 0'"
      ]
     },
     "execution_count": 7,
     "metadata": {},
     "output_type": "execute_result"
    }
   ],
   "source": [
    "ms.control_actions['Initialization Control Action'].control_action_options[0].name"
   ]
  },
  {
   "cell_type": "code",
   "execution_count": 1,
   "id": "450d8d2d",
   "metadata": {},
   "outputs": [],
   "source": [
    "from src.Implementations.Python import implementation"
   ]
  },
  {
   "cell_type": "code",
   "execution_count": 5,
   "id": "9209ebcc",
   "metadata": {},
   "outputs": [
    {
     "data": {
      "text/plain": [
       "<function src.Implementations.Python.Mechanisms.Iteration.update_x_mechanism(state, params, spaces)>"
      ]
     },
     "execution_count": 5,
     "metadata": {},
     "output_type": "execute_result"
    }
   ],
   "source": []
  },
  {
   "cell_type": "code",
   "execution_count": null,
   "id": "07697425",
   "metadata": {},
   "outputs": [],
   "source": []
  },
  {
   "cell_type": "code",
   "execution_count": 3,
   "id": "83d9f3cf",
   "metadata": {},
   "outputs": [],
   "source": [
    "from typing import Union, _UnionGenericAlias\n",
    "\n",
    "a = Union[\"A\", \"B\"]\n",
    "\n"
   ]
  },
  {
   "cell_type": "code",
   "execution_count": 4,
   "id": "25e64048",
   "metadata": {},
   "outputs": [
    {
     "data": {
      "text/plain": [
       "typing._SpecialForm"
      ]
     },
     "execution_count": 4,
     "metadata": {},
     "output_type": "execute_result"
    }
   ],
   "source": [
    "type(Union)"
   ]
  },
  {
   "cell_type": "code",
   "execution_count": 5,
   "id": "6327c0c8",
   "metadata": {},
   "outputs": [
    {
     "data": {
      "text/plain": [
       "True"
      ]
     },
     "execution_count": 5,
     "metadata": {},
     "output_type": "execute_result"
    }
   ],
   "source": [
    "type(a) == _UnionGenericAlias"
   ]
  },
  {
   "cell_type": "code",
   "execution_count": 6,
   "id": "fa65b154",
   "metadata": {},
   "outputs": [
    {
     "name": "stdout",
     "output_type": "stream",
     "text": [
      "{'X': 0, 't': 1711168548.460166}\n"
     ]
    }
   ],
   "source": [
    "\n",
    "state = {\"X\": None,\n",
    "        \"t\": None}\n",
    "params = {}\n",
    "\n",
    "spaces = None\n",
    "spaces = implementation['control_action_options']['set_x_0_control_action'](state, params, [])\n",
    "spaces = implementation['mechanisms'][\"update_x_mechanism\"](state, params, spaces)\n",
    "spaces = implementation['mechanisms'][\"set_simulation_time_mechanism\"](state, params, spaces)\n",
    "print(state)"
   ]
  },
  {
   "cell_type": "code",
   "execution_count": 2,
   "id": "355b66bd",
   "metadata": {},
   "outputs": [
    {
     "name": "stdout",
     "output_type": "stream",
     "text": [
      "                    Boundary Actions Control Actions  \\\n",
      "max_iterations                    []              []   \n",
      "tolerance                         []              []   \n",
      "f                                 []              []   \n",
      "f_prime                           []              []   \n",
      "root_finding_method               []              []   \n",
      "\n",
      "                                          Policies Mechanisms  \n",
      "max_iterations       [Iteration Controller Policy]         []  \n",
      "tolerance                                       []         []  \n",
      "f                             [Calculate Y Policy]         []  \n",
      "f_prime                 [Calculate Y Prime Policy]         []  \n",
      "root_finding_method             [Iteration Policy]         []  \n",
      "\n",
      "                    Boundary Actions Control Actions  \\\n",
      "max_iterations                    []              []   \n",
      "tolerance                         []              []   \n",
      "f                                 []              []   \n",
      "f_prime                           []              []   \n",
      "root_finding_method               []              []   \n",
      "\n",
      "                                          Policies Mechanisms Entities  \n",
      "max_iterations       [Iteration Controller Policy]         []       []  \n",
      "tolerance                                       []         []       []  \n",
      "f                             [Calculate Y Policy]         []       []  \n",
      "f_prime                 [Calculate Y Prime Policy]         []       []  \n",
      "root_finding_method             [Iteration Policy]         []       []  \n",
      "\n",
      "Iteration Controller Policy         [max_iterations]\n",
      "Calculate Y Policy                               [f]\n",
      "Calculate Y Prime Policy                   [f_prime]\n",
      "Iteration Policy               [root_finding_method]\n",
      "dtype: object\n",
      "\n",
      "Iteration Controller Policy         [max_iterations]\n",
      "Calculate Y Policy                               [f]\n",
      "Calculate Y Prime Policy                   [f_prime]\n",
      "Iteration Policy               [root_finding_method]\n",
      "dtype: object\n"
     ]
    }
   ],
   "source": [
    "print(create_parameter_impact_table(ms.param_links, orientation=\"Parameters\"))\n",
    "print()\n",
    "print(create_parameter_impact_table(ms.param_links_exploded, orientation=\"Parameters\"))\n",
    "print()\n",
    "print(create_parameter_impact_table(ms.param_links, orientation=\"Blocks\"))\n",
    "print()\n",
    "print(create_parameter_impact_table(ms.param_links_exploded, orientation=\"Blocks\"))"
   ]
  },
  {
   "cell_type": "code",
   "execution_count": null,
   "id": "921abc27",
   "metadata": {},
   "outputs": [],
   "source": []
  },
  {
   "cell_type": "code",
   "execution_count": null,
   "id": "8a5332bd",
   "metadata": {},
   "outputs": [],
   "source": []
  }
 ],
 "metadata": {
  "kernelspec": {
   "display_name": "Python 3 (ipykernel)",
   "language": "python",
   "name": "python3"
  },
  "language_info": {
   "codemirror_mode": {
    "name": "ipython",
    "version": 3
   },
   "file_extension": ".py",
   "mimetype": "text/x-python",
   "name": "python",
   "nbconvert_exporter": "python",
   "pygments_lexer": "ipython3",
   "version": "3.9.12"
  }
 },
 "nbformat": 4,
 "nbformat_minor": 5
}
