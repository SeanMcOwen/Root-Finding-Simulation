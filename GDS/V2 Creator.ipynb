{
 "cells": [
  {
   "cell_type": "code",
   "execution_count": 1,
   "id": "8dabfa18",
   "metadata": {},
   "outputs": [],
   "source": [
    "import os\n",
    "import sys\n",
    "\n",
    "sys.path.append(\"../../BlockScience\")\n",
    "\n",
    "\n",
    "from MSML.dev.dev import *\n"
   ]
  },
  {
   "cell_type": "code",
   "execution_count": 6,
   "id": "a17b0385",
   "metadata": {},
   "outputs": [
    {
     "name": "stdout",
     "output_type": "stream",
     "text": [
      "```mermaid\n",
      "graph TB\n",
      "subgraph X10[Initialization]\n",
      "direction TB\n",
      "X1[Initialization Control Action]\n",
      "subgraph X9[ ]\n",
      "direction LR\n",
      "subgraph X6[Calculate Y]\n",
      "direction TB\n",
      "X2[Calculate Y Policy]\n",
      "subgraph X5[ ]\n",
      "direction LR\n",
      "X3[Update X Mechanism]\n",
      "X4[Log Computation Time]\n",
      "X3 ~~~ X4\n",
      "end\n",
      "X2-->X5\n",
      "end\n",
      "X7[Calculate Y Prime]\n",
      "X8[Set Iteration Step]\n",
      "X6 ~~~ X7\n",
      "X7 ~~~ X8\n",
      "end\n",
      "X1-->X9\n",
      "end\n",
      "```\n"
     ]
    }
   ],
   "source": [
    "# Policies\n",
    "calculate_y_policy = Block(name='Calculate Y Policy')\n",
    "\n",
    "# Mechanisms\n",
    "update_x_mechanism = Block(name=\"Update X Mechanism\")\n",
    "log_computation_time = Block(name=\"Log Computation Time\")\n",
    "calculate_y_mechs = ParallelBlock(\" \", [update_x_mechanism, log_computation_time])\n",
    "\n",
    "# Block primitives\n",
    "initialization_ca = Block(name='Initialization Control Action')\n",
    "calculate_y = StackBlock('Calculate Y', [calculate_y_policy, calculate_y_mechs])\n",
    "calculate_y_prime = Block(name='Calculate Y Prime')\n",
    "set_iteration_step = Block(name='Set Iteration Step')\n",
    "triple_function_block = ParallelBlock(' ', [calculate_y, calculate_y_prime, set_iteration_step])\n",
    "\n",
    "initialization = StackBlock(\"Initialization\", [initialization_ca, triple_function_block])\n",
    "print(write_simulation_block(initialization))"
   ]
  },
  {
   "cell_type": "code",
   "execution_count": 3,
   "id": "cbe154cc",
   "metadata": {},
   "outputs": [
    {
     "data": {
      "text/plain": [
       "'```mermaid\\ngraph TB\\nsubgraph X4[Simulation 1]\\ndirection TB\\nX1[A]\\nX2[B]\\nX3[C]\\nX1-->X2\\nX2-->X3\\nend\\n```'"
      ]
     },
     "execution_count": 3,
     "metadata": {},
     "output_type": "execute_result"
    }
   ],
   "source": []
  },
  {
   "cell_type": "code",
   "execution_count": null,
   "id": "56b7a5f5",
   "metadata": {},
   "outputs": [],
   "source": []
  }
 ],
 "metadata": {
  "kernelspec": {
   "display_name": "Python 3 (ipykernel)",
   "language": "python",
   "name": "python3"
  },
  "language_info": {
   "codemirror_mode": {
    "name": "ipython",
    "version": 3
   },
   "file_extension": ".py",
   "mimetype": "text/x-python",
   "name": "python",
   "nbconvert_exporter": "python",
   "pygments_lexer": "ipython3",
   "version": "3.9.12"
  }
 },
 "nbformat": 4,
 "nbformat_minor": 5
}
