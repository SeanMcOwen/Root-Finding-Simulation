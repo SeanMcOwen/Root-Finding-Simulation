{
 "cells": [
  {
   "cell_type": "code",
   "execution_count": 1,
   "id": "8dabfa18",
   "metadata": {},
   "outputs": [],
   "source": [
    "import os\n",
    "import sys\n",
    "\n",
    "sys.path.append(\"../../BlockScience\")\n",
    "\n",
    "\n",
    "from MSML.dev.dev import *\n"
   ]
  },
  {
   "cell_type": "code",
   "execution_count": 15,
   "id": "a17b0385",
   "metadata": {},
   "outputs": [
    {
     "name": "stdout",
     "output_type": "stream",
     "text": [
      "```mermaid\n",
      "graph TB\n",
      "subgraph X12[Iteration]\n",
      "direction TB\n",
      "X1[Iteration Controller Policy]\n",
      "subgraph X2[Iteration Algorithm]\n",
      "direction TB\n",
      "end\n",
      "subgraph X10[ ]\n",
      "direction LR\n",
      "subgraph X7[Calculate Y]\n",
      "direction TB\n",
      "X3[Calculate Y Policy]\n",
      "subgraph X6[ ]\n",
      "direction LR\n",
      "X4[Update Y Mechanism]\n",
      "X5[Log Computation Time]\n",
      "X4 ~~~ X5\n",
      "end\n",
      "X3-->X6\n",
      "end\n",
      "X8[Calculate Y Prime]\n",
      "X9[Set Iteration Step]\n",
      "X7 ~~~ X8\n",
      "X8 ~~~ X9\n",
      "end\n",
      "X11[Set Simulation Time Mechanism]\n",
      "X1-->X2\n",
      "X2-->X10\n",
      "X10-->X11\n",
      "end\n",
      "```\n"
     ]
    }
   ],
   "source": [
    "# Policies\n",
    "calculate_y_policy = Block(name='Calculate Y Policy')\n",
    "# Because you might have rules like what timezone to use\n",
    "set_simulation_time_policy = Block(\"Set Simulation Time Policy\")\n",
    "iteration_controller_policy = Block(\"Iteration Controller Policy\")\n",
    "\n",
    "# Mechanisms\n",
    "update_y_mechanism = Block(name=\"Update Y Mechanism\")\n",
    "log_computation_time = Block(name=\"Log Computation Time\")\n",
    "calculate_y_mechs = ParallelBlock(\" \", [update_y_mechanism, log_computation_time])\n",
    "set_simulation_time_mechanism = Block(\"Set Simulation Time Mechanism\")\n",
    "\n",
    "# Block primitives\n",
    "initialization_ca = Block(name='Initialization Control Action')\n",
    "calculate_y = StackBlock('Calculate Y', [calculate_y_policy, calculate_y_mechs])\n",
    "calculate_y_prime = Block(name='Calculate Y Prime')\n",
    "set_iteration_step = Block(name='Set Iteration Step')\n",
    "triple_function_block = ParallelBlock(' ', [calculate_y, calculate_y_prime, set_iteration_step])\n",
    "set_simulation_time = StackBlock('Set Simulation Time', [set_simulation_time_policy, set_simulation_time_mechanism])\n",
    "iteration_algo_block = StackBlock(\"Iteration Algorithm\", [])\n",
    "\n",
    "initialization = StackBlock(\"Initialization\", [initialization_ca, triple_function_block, set_simulation_time])\n",
    "iteration =  StackBlock(\"Iteration\", [iteration_controller_policy, iteration_algo_block, triple_function_block, set_simulation_time_mechanism])\n",
    "print(write_simulation_block(iteration))"
   ]
  },
  {
   "cell_type": "code",
   "execution_count": 3,
   "id": "cbe154cc",
   "metadata": {},
   "outputs": [
    {
     "data": {
      "text/plain": [
       "'```mermaid\\ngraph TB\\nsubgraph X4[Simulation 1]\\ndirection TB\\nX1[A]\\nX2[B]\\nX3[C]\\nX1-->X2\\nX2-->X3\\nend\\n```'"
      ]
     },
     "execution_count": 3,
     "metadata": {},
     "output_type": "execute_result"
    }
   ],
   "source": []
  },
  {
   "cell_type": "code",
   "execution_count": null,
   "id": "56b7a5f5",
   "metadata": {},
   "outputs": [],
   "source": []
  }
 ],
 "metadata": {
  "kernelspec": {
   "display_name": "Python 3 (ipykernel)",
   "language": "python",
   "name": "python3"
  },
  "language_info": {
   "codemirror_mode": {
    "name": "ipython",
    "version": 3
   },
   "file_extension": ".py",
   "mimetype": "text/x-python",
   "name": "python",
   "nbconvert_exporter": "python",
   "pygments_lexer": "ipython3",
   "version": "3.9.12"
  }
 },
 "nbformat": 4,
 "nbformat_minor": 5
}
