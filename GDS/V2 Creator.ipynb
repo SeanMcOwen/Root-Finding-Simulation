{
 "cells": [
  {
   "cell_type": "code",
   "execution_count": 1,
   "id": "8dabfa18",
   "metadata": {},
   "outputs": [],
   "source": [
    "import os\n",
    "import sys\n",
    "\n",
    "sys.path.append(\"../../BlockScience\")\n",
    "\n",
    "\n",
    "from MSML.dev.dev import *\n"
   ]
  },
  {
   "cell_type": "code",
   "execution_count": 17,
   "id": "a17b0385",
   "metadata": {},
   "outputs": [
    {
     "name": "stdout",
     "output_type": "stream",
     "text": [
      "```mermaid\n",
      "graph TB\n",
      "subgraph X26[Simulation]\n",
      "direction TB\n",
      "subgraph X13[Initialization]\n",
      "direction TB\n",
      "X1[Initialization Control Action]\n",
      "subgraph X9[ ]\n",
      "direction LR\n",
      "subgraph X6[Calculate Y]\n",
      "direction TB\n",
      "X2[Calculate Y Policy]\n",
      "subgraph X5[ ]\n",
      "direction LR\n",
      "X3[Update Y Mechanism]\n",
      "X4[Log Computation Time]\n",
      "X3 ~~~ X4\n",
      "end\n",
      "X2-->X5\n",
      "end\n",
      "X7[Calculate Y Prime]\n",
      "X8[Set Iteration Step]\n",
      "X6 ~~~ X7\n",
      "X7 ~~~ X8\n",
      "end\n",
      "subgraph X12[Set Simulation Time]\n",
      "direction TB\n",
      "X10[Set Simulation Time Policy]\n",
      "X11[Set Simulation Time Mechanism]\n",
      "X10-->X11\n",
      "end\n",
      "X1-->X9\n",
      "X9-->X12\n",
      "end\n",
      "subgraph X25[Iteration]\n",
      "direction TB\n",
      "X14[Iteration Controller Policy]\n",
      "subgraph X15[Iteration Algorithm]\n",
      "direction TB\n",
      "end\n",
      "subgraph X23[ ]\n",
      "direction LR\n",
      "subgraph X20[Calculate Y]\n",
      "direction TB\n",
      "X16[Calculate Y Policy]\n",
      "subgraph X19[ ]\n",
      "direction LR\n",
      "X17[Update Y Mechanism]\n",
      "X18[Log Computation Time]\n",
      "X17 ~~~ X18\n",
      "end\n",
      "X16-->X19\n",
      "end\n",
      "X21[Calculate Y Prime]\n",
      "X22[Set Iteration Step]\n",
      "X20 ~~~ X21\n",
      "X21 ~~~ X22\n",
      "end\n",
      "X24[Set Simulation Time Mechanism]\n",
      "X14-->X15\n",
      "X15-->X23\n",
      "X23-->X24\n",
      "end\n",
      "X13-->X25\n",
      "end\n",
      "```\n"
     ]
    }
   ],
   "source": [
    "# Policies\n",
    "calculate_y_policy = Block(name='Calculate Y Policy')\n",
    "# Because you might have rules like what timezone to use\n",
    "set_simulation_time_policy = Block(\"Set Simulation Time Policy\")\n",
    "iteration_controller_policy = Block(\"Iteration Controller Policy\")\n",
    "\n",
    "# Mechanisms\n",
    "update_y_mechanism = Block(name=\"Update Y Mechanism\")\n",
    "log_computation_time = Block(name=\"Log Computation Time\")\n",
    "calculate_y_mechs = ParallelBlock(\" \", [update_y_mechanism, log_computation_time])\n",
    "set_simulation_time_mechanism = Block(\"Set Simulation Time Mechanism\")\n",
    "\n",
    "# Block primitives\n",
    "initialization_ca = Block(name='Initialization Control Action')\n",
    "calculate_y = StackBlock('Calculate Y', [calculate_y_policy, calculate_y_mechs])\n",
    "calculate_y_prime = Block(name='Calculate Y Prime')\n",
    "set_iteration_step = Block(name='Set Iteration Step')\n",
    "triple_function_block = ParallelBlock(' ', [calculate_y, calculate_y_prime, set_iteration_step])\n",
    "set_simulation_time = StackBlock('Set Simulation Time', [set_simulation_time_policy, set_simulation_time_mechanism])\n",
    "iteration_algo_block = StackBlock(\"Iteration Algorithm\", [])\n",
    "\n",
    "initialization = StackBlock(\"Initialization\", [initialization_ca, triple_function_block, set_simulation_time])\n",
    "iteration =  StackBlock(\"Iteration\", [iteration_controller_policy, iteration_algo_block, triple_function_block, set_simulation_time_mechanism])\n",
    "simulation_block = StackBlock(\"Simulation\", [initialization,iteration ])\n",
    "print(write_simulation_block(simulation_block))"
   ]
  },
  {
   "cell_type": "code",
   "execution_count": 3,
   "id": "cbe154cc",
   "metadata": {},
   "outputs": [
    {
     "data": {
      "text/plain": [
       "'```mermaid\\ngraph TB\\nsubgraph X4[Simulation 1]\\ndirection TB\\nX1[A]\\nX2[B]\\nX3[C]\\nX1-->X2\\nX2-->X3\\nend\\n```'"
      ]
     },
     "execution_count": 3,
     "metadata": {},
     "output_type": "execute_result"
    }
   ],
   "source": []
  },
  {
   "cell_type": "code",
   "execution_count": null,
   "id": "56b7a5f5",
   "metadata": {},
   "outputs": [],
   "source": []
  }
 ],
 "metadata": {
  "kernelspec": {
   "display_name": "Python 3 (ipykernel)",
   "language": "python",
   "name": "python3"
  },
  "language_info": {
   "codemirror_mode": {
    "name": "ipython",
    "version": 3
   },
   "file_extension": ".py",
   "mimetype": "text/x-python",
   "name": "python",
   "nbconvert_exporter": "python",
   "pygments_lexer": "ipython3",
   "version": "3.9.12"
  }
 },
 "nbformat": 4,
 "nbformat_minor": 5
}
